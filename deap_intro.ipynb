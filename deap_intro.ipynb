{
  "nbformat": 4,
  "nbformat_minor": 0,
  "metadata": {
    "colab": {
      "name": "deap_intro.ipynb",
      "provenance": [],
      "collapsed_sections": []
    },
    "kernelspec": {
      "name": "python3",
      "display_name": "Python 3"
    },
    "language_info": {
      "name": "python"
    }
  },
  "cells": [
    {
      "cell_type": "markdown",
      "metadata": {
        "id": "NeFC4qwLuceB"
      },
      "source": [
        "# **\"General\" Evolutionary Algorithm**"
      ]
    },
    {
      "cell_type": "markdown",
      "metadata": {
        "id": "tDh6x9Mduzt0"
      },
      "source": [
        "```python\n",
        "def evolutionary_algorithm():\n",
        "    'Pseudocode of an evolutionary algorithm'    \n",
        "    populations = [] # a list with all the populations\n",
        "    \n",
        "    populations[0] =  initialize_population(pop_size)\n",
        "    t = 0\n",
        "    \n",
        "    while not stop_criterion(populations[t]):\n",
        "        fitnesses = evaluate(populations[t])\n",
        "        offspring = matting_and_variation(populations[t],\n",
        "                                          fitnesses)\n",
        "        populations[t+1] = environmental_selection(           \n",
        "                                          populations[t],\n",
        "                                          offspring)\n",
        "        t = t+1\n",
        "```"
      ]
    },
    {
      "cell_type": "markdown",
      "metadata": {
        "id": "z6dogRpAwQuv"
      },
      "source": [
        "# **Distributed Evolutionary Algorithms in Python (DEAP)**"
      ]
    },
    {
      "cell_type": "markdown",
      "metadata": {
        "id": "mC6iHlFPxcPV"
      },
      "source": [
        "<table>\n",
        "<tr>\n",
        "<td width='47%'>\n",
        "<img src='https://raw.githubusercontent.com/DEAP/deap/master/doc/_static/deap_long.png' title=\"DEAP logo\" width='40%' align='center'/>\n",
        "</td>\n",
        "</tr>\n",
        "</table>"
      ]
    },
    {
      "cell_type": "markdown",
      "metadata": {
        "id": "Repm0mM9yca6"
      },
      "source": [
        "# **The One Max problem**"
      ]
    },
    {
      "cell_type": "markdown",
      "metadata": {
        "id": "NP3w2aewyZdG"
      },
      "source": [
        "* Maximize the number of ones in a binary string (list, vector, etc.).\n",
        "* More formally, from the set of binary strings of length $n$,\n",
        "$$\\mathcal{S}=\\left\\{b_1,\\ldots,b_m\\right\\}, \\text{ with } b_i=\\left\\{s_{i1}, \\ldots, s_{in}\\right\\} \\text{ | } s_{ij}=\\left\\{0,1\\right\\}$$\n",
        "* Find $b^\\ast\\in\\mathcal{S}$ such that\n",
        "$$b_l = \\operatorname*{arg\\,max}_{s\\in\\mathcal{b_l}} \\sum_{j=1}^{n}{s_{lj}}.$$\n",
        "* Its clear that the optimum is an *all-ones* string."
      ]
    },
    {
      "cell_type": "markdown",
      "metadata": {
        "id": "USL5yu3CCkNc"
      },
      "source": [
        "## **Coding the problem**"
      ]
    },
    {
      "cell_type": "code",
      "metadata": {
        "id": "HuDVYmMZxz8w",
        "colab": {
          "base_uri": "https://localhost:8080/"
        },
        "outputId": "3c9f15d4-1bbc-41de-f282-cc74d61b53f8"
      },
      "source": [
        "%%bash\n",
        "pip install git+https://github.com/DEAP/deap@master"
      ],
      "execution_count": 1,
      "outputs": [
        {
          "output_type": "stream",
          "text": [
            "Collecting git+https://github.com/DEAP/deap@master\n",
            "  Cloning https://github.com/DEAP/deap (to revision master) to /tmp/pip-req-build-25wfu1vf\n",
            "Requirement already satisfied: numpy in /usr/local/lib/python3.7/dist-packages (from deap==1.3.1) (1.19.5)\n",
            "Building wheels for collected packages: deap\n",
            "  Building wheel for deap (setup.py): started\n",
            "  Building wheel for deap (setup.py): finished with status 'done'\n",
            "  Created wheel for deap: filename=deap-1.3.1-cp37-cp37m-linux_x86_64.whl size=138898 sha256=3adec2baf01b92d72ea070a71e6a5fa143a764c047aa883dda03200c6e932317\n",
            "  Stored in directory: /tmp/pip-ephem-wheel-cache-ggznv8_3/wheels/37/08/2d/1c69bd05c785b5f651d23680921059342b69b7f3ec0d724ea7\n",
            "Successfully built deap\n",
            "Installing collected packages: deap\n",
            "Successfully installed deap-1.3.1\n"
          ],
          "name": "stdout"
        },
        {
          "output_type": "stream",
          "text": [
            "  Running command git clone -q https://github.com/DEAP/deap /tmp/pip-req-build-25wfu1vf\n"
          ],
          "name": "stderr"
        }
      ]
    },
    {
      "cell_type": "code",
      "metadata": {
        "id": "egG8OuOx6Zlx"
      },
      "source": [
        "import random\n",
        "import numpy as np\n",
        "from deap import algorithms, base, creator, tools"
      ],
      "execution_count": 11,
      "outputs": []
    },
    {
      "cell_type": "code",
      "metadata": {
        "id": "9TK9cUyl6tKd"
      },
      "source": [
        "creator.create(\"FitnessMax\", base.Fitness, weights=(1.0,))\n",
        "creator.create(\"Individual\", list, fitness=creator.FitnessMax)"
      ],
      "execution_count": 3,
      "outputs": []
    },
    {
      "cell_type": "code",
      "metadata": {
        "id": "zDPvtuLA7mA_"
      },
      "source": [
        "def evalOneMax(individual):\n",
        "  return (sum(individual),)"
      ],
      "execution_count": 4,
      "outputs": []
    },
    {
      "cell_type": "markdown",
      "metadata": {
        "id": "XXpHwqAnCo0d"
      },
      "source": [
        "# **Defining elements**"
      ]
    },
    {
      "cell_type": "code",
      "metadata": {
        "id": "DYN8Bs4d8Sds"
      },
      "source": [
        "toolbox = base.Toolbox()\n",
        "toolbox.register(\"attr_bool\", random.randint, 0, 1)\n",
        "toolbox.register(\"individual\", tools.initRepeat, creator.Individual, toolbox.attr_bool, n=100)\n",
        "toolbox.register(\"population\", tools.initRepeat, list, \u001ctoolbox.individual)"
      ],
      "execution_count": 5,
      "outputs": []
    },
    {
      "cell_type": "code",
      "metadata": {
        "id": "qKO0zr1o92Ak"
      },
      "source": [
        "# https://deap.readthedocs.io/en/master/api/tools.html\n",
        "toolbox.register(\"evaluate\", evalOneMax)\n",
        "toolbox.register(\"mate\", tools.cxOnePoint)\n",
        "toolbox.register(\"mutate\", tools.mutFlipBit, indpb=0.05)\n",
        "toolbox.register(\"select\", tools.selTournament, tournsize=3)"
      ],
      "execution_count": 6,
      "outputs": []
    },
    {
      "cell_type": "markdown",
      "metadata": {
        "id": "qWmuTWMIC2aM"
      },
      "source": [
        "# **Running experiment**"
      ]
    },
    {
      "cell_type": "code",
      "metadata": {
        "id": "vIwPoh___eCq"
      },
      "source": [
        "pop = toolbox.population(n=300)\n",
        "result = algorithms.eaSimple(pop, toolbox, cxpb = 0.5, mutpb=0.2, ngen=10, verbose=False)"
      ],
      "execution_count": 7,
      "outputs": []
    },
    {
      "cell_type": "markdown",
      "metadata": {
        "id": "b3n2XTQuDFZN"
      },
      "source": [
        "```python\n",
        "evaluate(population)\n",
        "for g in range(ngen):\n",
        "    population = select(population, len(population))\n",
        "    offspring = varAnd(population, toolbox, cxpb, mutpb)\n",
        "    evaluate(offspring)\n",
        "    population = offspring\n",
        "```"
      ]
    },
    {
      "cell_type": "code",
      "metadata": {
        "colab": {
          "base_uri": "https://localhost:8080/"
        },
        "id": "doL0yjmFAXA5",
        "outputId": "7d56a07d-77a8-4237-f8a3-2879819b9433"
      },
      "source": [
        "print('Current best fitness:', evalOneMax(tools.selBest(pop, k=1)[0]))"
      ],
      "execution_count": 8,
      "outputs": [
        {
          "output_type": "stream",
          "text": [
            "Current best fitness: (80,)\n"
          ],
          "name": "stdout"
        }
      ]
    },
    {
      "cell_type": "code",
      "metadata": {
        "id": "SB1XKYv5BGkW"
      },
      "source": [
        "result = algorithms.eaSimple(pop, toolbox, cxpb = 0.5, mutpb=0.2, ngen=50, verbose=False)"
      ],
      "execution_count": 9,
      "outputs": []
    },
    {
      "cell_type": "code",
      "metadata": {
        "colab": {
          "base_uri": "https://localhost:8080/"
        },
        "id": "swa_ZjzyBRgq",
        "outputId": "7d28e1f0-7ad7-459c-9e11-d5fc81d14bd5"
      },
      "source": [
        "print('Current best fitness:', evalOneMax(tools.selBest(pop, k=1)[0]))"
      ],
      "execution_count": 10,
      "outputs": [
        {
          "output_type": "stream",
          "text": [
            "Current best fitness: (99,)\n"
          ],
          "name": "stdout"
        }
      ]
    },
    {
      "cell_type": "markdown",
      "metadata": {
        "id": "-SuhYlRo8UsM"
      },
      "source": [
        "# **Statistics**"
      ]
    },
    {
      "cell_type": "code",
      "metadata": {
        "id": "H-TrF7NmBT27"
      },
      "source": [
        "stats = tools.Statistics(key=lambda ind: ind.fitness.values)\n",
        "stats.register(\"avg\", np.mean)\n",
        "stats.register(\"min\", np.min)"
      ],
      "execution_count": 12,
      "outputs": []
    },
    {
      "cell_type": "code",
      "metadata": {
        "id": "6phDE23L2BUw"
      },
      "source": [
        "pop = toolbox.population(n=300)\n",
        "pop, logbook = algorithms.eaSimple(pop, toolbox, cxpb = 0.5, mutpb=0.2, ngen=50, \n",
        "                             stats=stats, verbose=False)"
      ],
      "execution_count": 13,
      "outputs": []
    },
    {
      "cell_type": "code",
      "metadata": {
        "id": "zvQzZO_22aGr"
      },
      "source": [
        "gen = logbook.select(\"gen\")\n",
        "fit_min = logbook.select(\"min\")\n",
        "fit_avg = logbook.select(\"avg\")"
      ],
      "execution_count": 14,
      "outputs": []
    },
    {
      "cell_type": "code",
      "metadata": {
        "colab": {
          "base_uri": "https://localhost:8080/",
          "height": 281
        },
        "id": "s_qUa0up2vcJ",
        "outputId": "cf372921-ee50-4ec9-ea20-a74337cfa8e9"
      },
      "source": [
        "import matplotlib.pyplot as plt\n",
        "\n",
        "fig, ax1 = plt.subplots()\n",
        "line1 = ax1.plot(gen, fit_min, \"b\", label=\"Minimum\")\n",
        "ax1.set_xlabel(\"Generation\")\n",
        "ax1.set_ylabel(\"Fitness\", color=\"b\")\n",
        "\n",
        "ax2 = ax1.twinx()\n",
        "line2 = ax2.plot(gen, fit_avg, \"r\", label=\"Average\")\n",
        "ax2.set_ylabel(\"Size\", color=\"r\")\n",
        "\n",
        "lns = line1 + line2\n",
        "labs = ['Minimum', 'Average']\n",
        "ax1.legend(lns, labs)\n",
        "\n",
        "plt.show()"
      ],
      "execution_count": 16,
      "outputs": [
        {
          "output_type": "display_data",
          "data": {
            "image/png": "[encoded data removed]",
            "text/plain": [
              "<Figure size 432x288 with 2 Axes>"
            ]
          },
          "metadata": {
            "needs_background": "light"
          }
        }
      ]
    },
    {
      "cell_type": "code",
      "metadata": {
        "id": "2UMf_tSj3DX8"
      },
      "source": [
        ""
      ],
      "execution_count": null,
      "outputs": []
    }
  ]
}