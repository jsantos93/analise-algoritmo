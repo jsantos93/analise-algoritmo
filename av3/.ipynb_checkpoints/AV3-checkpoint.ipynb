{
 "cells": [
  {
   "cell_type": "code",
   "execution_count": 50,
   "metadata": {},
   "outputs": [],
   "source": [
    "import pandas as pd\n",
    "import seaborn as sns\n",
    "import numpy as np\n",
    "import matplotlib.pyplot as plt"
   ]
  },
  {
   "cell_type": "code",
   "execution_count": 60,
   "metadata": {},
   "outputs": [],
   "source": [
    "processing_time = pd.read_csv(\"cases_time/processing_time.csv\")\n",
    "selection = pd.read_csv(\"cases_time/Selection Sort.csv\")\n",
    "bubble = pd.read_csv(\"cases_time/Bubble Sort.csv\")\n",
    "pancake = pd.read_csv(\"cases_time/Pancake Sort.csv\")\n",
    "shell = pd.read_csv(\"cases_time/Shell Sort.csv\")"
   ]
  },
  {
   "cell_type": "code",
   "execution_count": 53,
   "metadata": {},
   "outputs": [
    {
     "data": {
      "text/html": [
       "<div>\n",
       "<style scoped>\n",
       "    .dataframe tbody tr th:only-of-type {\n",
       "        vertical-align: middle;\n",
       "    }\n",
       "\n",
       "    .dataframe tbody tr th {\n",
       "        vertical-align: top;\n",
       "    }\n",
       "\n",
       "    .dataframe thead th {\n",
       "        text-align: right;\n",
       "    }\n",
       "</style>\n",
       "<table border=\"1\" class=\"dataframe\">\n",
       "  <thead>\n",
       "    <tr style=\"text-align: right;\">\n",
       "      <th></th>\n",
       "      <th>Algoritmos</th>\n",
       "      <th>1000</th>\n",
       "      <th>10000</th>\n",
       "      <th>20000</th>\n",
       "      <th>50000</th>\n",
       "      <th>75000</th>\n",
       "      <th>100000</th>\n",
       "    </tr>\n",
       "  </thead>\n",
       "  <tbody>\n",
       "    <tr>\n",
       "      <th>0</th>\n",
       "      <td>Selection Sort</td>\n",
       "      <td>0.031770</td>\n",
       "      <td>3.267303</td>\n",
       "      <td>NaN</td>\n",
       "      <td>NaN</td>\n",
       "      <td>NaN</td>\n",
       "      <td>NaN</td>\n",
       "    </tr>\n",
       "    <tr>\n",
       "      <th>1</th>\n",
       "      <td>Bubble Sort</td>\n",
       "      <td>0.071006</td>\n",
       "      <td>7.805830</td>\n",
       "      <td>NaN</td>\n",
       "      <td>NaN</td>\n",
       "      <td>NaN</td>\n",
       "      <td>NaN</td>\n",
       "    </tr>\n",
       "    <tr>\n",
       "      <th>2</th>\n",
       "      <td>Pancake Sort</td>\n",
       "      <td>0.020316</td>\n",
       "      <td>2.248529</td>\n",
       "      <td>NaN</td>\n",
       "      <td>NaN</td>\n",
       "      <td>NaN</td>\n",
       "      <td>NaN</td>\n",
       "    </tr>\n",
       "    <tr>\n",
       "      <th>3</th>\n",
       "      <td>Shell Sort</td>\n",
       "      <td>0.002331</td>\n",
       "      <td>0.042754</td>\n",
       "      <td>NaN</td>\n",
       "      <td>NaN</td>\n",
       "      <td>NaN</td>\n",
       "      <td>NaN</td>\n",
       "    </tr>\n",
       "  </tbody>\n",
       "</table>\n",
       "</div>"
      ],
      "text/plain": [
       "       Algoritmos      1000     10000  20000  50000  75000  100000\n",
       "0  Selection Sort  0.031770  3.267303    NaN    NaN    NaN     NaN\n",
       "1     Bubble Sort  0.071006  7.805830    NaN    NaN    NaN     NaN\n",
       "2    Pancake Sort  0.020316  2.248529    NaN    NaN    NaN     NaN\n",
       "3      Shell Sort  0.002331  0.042754    NaN    NaN    NaN     NaN"
      ]
     },
     "execution_count": 53,
     "metadata": {},
     "output_type": "execute_result"
    }
   ],
   "source": [
    "processing_time.head()"
   ]
  },
  {
   "cell_type": "code",
   "execution_count": 54,
   "metadata": {},
   "outputs": [],
   "source": [
    "processing_time = processing_time.set_index('Algoritmos')"
   ]
  },
  {
   "cell_type": "code",
   "execution_count": 55,
   "metadata": {},
   "outputs": [
    {
     "data": {
      "text/html": [
       "<div>\n",
       "<style scoped>\n",
       "    .dataframe tbody tr th:only-of-type {\n",
       "        vertical-align: middle;\n",
       "    }\n",
       "\n",
       "    .dataframe tbody tr th {\n",
       "        vertical-align: top;\n",
       "    }\n",
       "\n",
       "    .dataframe thead th {\n",
       "        text-align: right;\n",
       "    }\n",
       "</style>\n",
       "<table border=\"1\" class=\"dataframe\">\n",
       "  <thead>\n",
       "    <tr style=\"text-align: right;\">\n",
       "      <th></th>\n",
       "      <th>1000</th>\n",
       "      <th>10000</th>\n",
       "      <th>20000</th>\n",
       "      <th>50000</th>\n",
       "      <th>75000</th>\n",
       "      <th>100000</th>\n",
       "    </tr>\n",
       "    <tr>\n",
       "      <th>Algoritmos</th>\n",
       "      <th></th>\n",
       "      <th></th>\n",
       "      <th></th>\n",
       "      <th></th>\n",
       "      <th></th>\n",
       "      <th></th>\n",
       "    </tr>\n",
       "  </thead>\n",
       "  <tbody>\n",
       "    <tr>\n",
       "      <th>Selection Sort</th>\n",
       "      <td>0.031770</td>\n",
       "      <td>3.267303</td>\n",
       "      <td>NaN</td>\n",
       "      <td>NaN</td>\n",
       "      <td>NaN</td>\n",
       "      <td>NaN</td>\n",
       "    </tr>\n",
       "    <tr>\n",
       "      <th>Bubble Sort</th>\n",
       "      <td>0.071006</td>\n",
       "      <td>7.805830</td>\n",
       "      <td>NaN</td>\n",
       "      <td>NaN</td>\n",
       "      <td>NaN</td>\n",
       "      <td>NaN</td>\n",
       "    </tr>\n",
       "    <tr>\n",
       "      <th>Pancake Sort</th>\n",
       "      <td>0.020316</td>\n",
       "      <td>2.248529</td>\n",
       "      <td>NaN</td>\n",
       "      <td>NaN</td>\n",
       "      <td>NaN</td>\n",
       "      <td>NaN</td>\n",
       "    </tr>\n",
       "    <tr>\n",
       "      <th>Shell Sort</th>\n",
       "      <td>0.002331</td>\n",
       "      <td>0.042754</td>\n",
       "      <td>NaN</td>\n",
       "      <td>NaN</td>\n",
       "      <td>NaN</td>\n",
       "      <td>NaN</td>\n",
       "    </tr>\n",
       "  </tbody>\n",
       "</table>\n",
       "</div>"
      ],
      "text/plain": [
       "                    1000     10000  20000  50000  75000  100000\n",
       "Algoritmos                                                     \n",
       "Selection Sort  0.031770  3.267303    NaN    NaN    NaN     NaN\n",
       "Bubble Sort     0.071006  7.805830    NaN    NaN    NaN     NaN\n",
       "Pancake Sort    0.020316  2.248529    NaN    NaN    NaN     NaN\n",
       "Shell Sort      0.002331  0.042754    NaN    NaN    NaN     NaN"
      ]
     },
     "execution_count": 55,
     "metadata": {},
     "output_type": "execute_result"
    }
   ],
   "source": [
    "processing_time.head()"
   ]
  },
  {
   "cell_type": "code",
   "execution_count": 56,
   "metadata": {},
   "outputs": [
    {
     "data": {
      "text/plain": [
       "<matplotlib.legend.Legend at 0x7f8b3e894f90>"
      ]
     },
     "execution_count": 56,
     "metadata": {},
     "output_type": "execute_result"
    },
    {
     "data": {
      "image/png": "[encoded data removed]",
      "text/plain": [
       "<Figure size 1332x756 with 1 Axes>"
      ]
     },
     "metadata": {
      "needs_background": "light"
     },
     "output_type": "display_data"
    }
   ],
   "source": [
    "inputs = list(processing_time.columns)\n",
    "selection_process_time = list(processing_time.iloc[[0][0]])\n",
    "bubble_process_time = list(processing_time.iloc[[1][0]])\n",
    "pancake_process_time = list(processing_time.iloc[[2][0]])\n",
    "shell_process_time = list(processing_time.iloc[[3][0]])\n",
    "\n",
    "fig, ax = plt.subplots()\n",
    "ax.plot(inputs, selection_process_time, \"-o\", label = \"Selection\") \n",
    "ax.plot(inputs, bubble_process_time, \"-o\", label = \"Bubble\")\n",
    "ax.plot(inputs, pancake_process_time, \"-o\", label = \"Pancake\")\n",
    "ax.plot(inputs, shell_process_time, \"-o\", label = \"Shell\")\n",
    "ax.set_xlabel('Quantidade de elementos do conjunto') \n",
    "ax.set_ylabel('Tempo (Milisegundos)') \n",
    "ax.set_title('Tempo de cada método x Conjuntos aleatórios') \n",
    "ax.yaxis.grid(True)\n",
    "fig.set_size_inches(18.5, 10.5)\n",
    "ax.legend()"
   ]
  },
  {
   "cell_type": "markdown",
   "metadata": {},
   "source": [
    "# Selection Sort"
   ]
  },
  {
   "cell_type": "code",
   "execution_count": 57,
   "metadata": {},
   "outputs": [],
   "source": [
    "def selection_sort(collection: int) -> list:\n",
    "    length = len(collection)\n",
    "    for i in range(length - 1):\n",
    "        least = i\n",
    "        for k in range(i + 1, length):\n",
    "            if collection[k] < collection[least]:\n",
    "                least = k\n",
    "        if least != i:\n",
    "            collection[least], collection[i] = (collection[i], collection[least])\n",
    "    return collection"
   ]
  },
  {
   "cell_type": "markdown",
   "metadata": {},
   "source": [
    "\n",
    "### Como funciona ?\n",
    "\n",
    "![](imgs/selection-sort.gif)\n",
    "\n",
    "O algoritmo divide a lista de entrada em duas partes: uma sublista classificada de itens que é construída da esquerda para a direita na frente (esquerda) da lista e uma sublista dos itens não classificados restantes que ocupam o resto da lista. Inicialmente, a sublista classificada está vazia e a sublista não classificada é a lista de entrada inteira. O algoritmo prossegue encontrando o menor (ou maior, dependendo da ordem de classificação) elemento na sublista não classificada, trocando (trocando) com o elemento não classificado mais à esquerda (colocando-o em ordem de classificação) e movendo os limites da sublista um elemento para a direita.\n",
    "\n",
    "**Melhor Caso:**\n",
    "\n",
    "Melhor caso ocorre quando a lista está ordenada -> O(nˆ2)\n",
    "\n",
    "**Caso Médio:**\n",
    "\n",
    "Caso médio ocorre quando a lista está misturada com elementos ordenados e não ordenados -> O(n^2) \n",
    "\n",
    "**Pior Caso:**\n",
    "\n",
    "Pior caso ocorre quando a lista está inversamente ordenada -> O(nˆ2)"
   ]
  },
  {
   "cell_type": "code",
   "execution_count": 58,
   "metadata": {},
   "outputs": [
    {
     "data": {
      "text/html": [
       "<div>\n",
       "<style scoped>\n",
       "    .dataframe tbody tr th:only-of-type {\n",
       "        vertical-align: middle;\n",
       "    }\n",
       "\n",
       "    .dataframe tbody tr th {\n",
       "        vertical-align: top;\n",
       "    }\n",
       "\n",
       "    .dataframe thead th {\n",
       "        text-align: right;\n",
       "    }\n",
       "</style>\n",
       "<table border=\"1\" class=\"dataframe\">\n",
       "  <thead>\n",
       "    <tr style=\"text-align: right;\">\n",
       "      <th></th>\n",
       "      <th>Best Case</th>\n",
       "      <th>Worst Case</th>\n",
       "      <th>Average Case</th>\n",
       "    </tr>\n",
       "    <tr>\n",
       "      <th>Values</th>\n",
       "      <th></th>\n",
       "      <th></th>\n",
       "      <th></th>\n",
       "    </tr>\n",
       "  </thead>\n",
       "  <tbody>\n",
       "    <tr>\n",
       "      <th>1000</th>\n",
       "      <td>0.031040</td>\n",
       "      <td>0.032581</td>\n",
       "      <td>0.122693</td>\n",
       "    </tr>\n",
       "    <tr>\n",
       "      <th>10000</th>\n",
       "      <td>3.122511</td>\n",
       "      <td>3.267234</td>\n",
       "      <td>12.067685</td>\n",
       "    </tr>\n",
       "  </tbody>\n",
       "</table>\n",
       "</div>"
      ],
      "text/plain": [
       "        Best Case  Worst Case  Average Case\n",
       "Values                                     \n",
       "1000     0.031040    0.032581      0.122693\n",
       "10000    3.122511    3.267234     12.067685"
      ]
     },
     "execution_count": 58,
     "metadata": {},
     "output_type": "execute_result"
    }
   ],
   "source": [
    "inputs = selection[\"Values\"]\n",
    "selection = selection.set_index('Values')\n",
    "selection.head()"
   ]
  },
  {
   "cell_type": "code",
   "execution_count": 59,
   "metadata": {},
   "outputs": [
    {
     "ename": "ValueError",
     "evalue": "x and y must have same first dimension, but have shapes (6,) and (2,)",
     "output_type": "error",
     "traceback": [
      "\u001b[0;31m---------------------------------------------------------------------------\u001b[0m",
      "\u001b[0;31mValueError\u001b[0m                                Traceback (most recent call last)",
      "\u001b[0;32m<ipython-input-59-83003eaa027b>\u001b[0m in \u001b[0;36m<module>\u001b[0;34m\u001b[0m\n\u001b[1;32m      4\u001b[0m \u001b[0;34m\u001b[0m\u001b[0m\n\u001b[1;32m      5\u001b[0m \u001b[0mfig\u001b[0m\u001b[0;34m,\u001b[0m \u001b[0max\u001b[0m \u001b[0;34m=\u001b[0m \u001b[0mplt\u001b[0m\u001b[0;34m.\u001b[0m\u001b[0msubplots\u001b[0m\u001b[0;34m(\u001b[0m\u001b[0;34m)\u001b[0m\u001b[0;34m\u001b[0m\u001b[0;34m\u001b[0m\u001b[0m\n\u001b[0;32m----> 6\u001b[0;31m \u001b[0max\u001b[0m\u001b[0;34m.\u001b[0m\u001b[0mplot\u001b[0m\u001b[0;34m(\u001b[0m\u001b[0minputs\u001b[0m\u001b[0;34m,\u001b[0m \u001b[0mbest_cases\u001b[0m\u001b[0;34m,\u001b[0m \u001b[0;34m\"-o\"\u001b[0m\u001b[0;34m,\u001b[0m \u001b[0mlabel\u001b[0m \u001b[0;34m=\u001b[0m \u001b[0;34m\"Best Case\"\u001b[0m\u001b[0;34m)\u001b[0m\u001b[0;34m\u001b[0m\u001b[0;34m\u001b[0m\u001b[0m\n\u001b[0m\u001b[1;32m      7\u001b[0m \u001b[0max\u001b[0m\u001b[0;34m.\u001b[0m\u001b[0mplot\u001b[0m\u001b[0;34m(\u001b[0m\u001b[0minputs\u001b[0m\u001b[0;34m,\u001b[0m \u001b[0mworst_cases\u001b[0m\u001b[0;34m,\u001b[0m \u001b[0;34m\"-o\"\u001b[0m\u001b[0;34m,\u001b[0m \u001b[0mlabel\u001b[0m \u001b[0;34m=\u001b[0m \u001b[0;34m\"Worst Case\"\u001b[0m\u001b[0;34m)\u001b[0m\u001b[0;34m\u001b[0m\u001b[0;34m\u001b[0m\u001b[0m\n\u001b[1;32m      8\u001b[0m \u001b[0max\u001b[0m\u001b[0;34m.\u001b[0m\u001b[0mplot\u001b[0m\u001b[0;34m(\u001b[0m\u001b[0minputs\u001b[0m\u001b[0;34m,\u001b[0m \u001b[0maverage_cases\u001b[0m\u001b[0;34m,\u001b[0m \u001b[0;34m\"-o\"\u001b[0m\u001b[0;34m,\u001b[0m \u001b[0mlabel\u001b[0m \u001b[0;34m=\u001b[0m \u001b[0;34m\"Average Case\"\u001b[0m\u001b[0;34m)\u001b[0m\u001b[0;34m\u001b[0m\u001b[0;34m\u001b[0m\u001b[0m\n",
      "\u001b[0;32m/opt/conda/lib/python3.7/site-packages/matplotlib/axes/_axes.py\u001b[0m in \u001b[0;36mplot\u001b[0;34m(self, scalex, scaley, data, *args, **kwargs)\u001b[0m\n\u001b[1;32m   1644\u001b[0m         \"\"\"\n\u001b[1;32m   1645\u001b[0m         \u001b[0mkwargs\u001b[0m \u001b[0;34m=\u001b[0m \u001b[0mcbook\u001b[0m\u001b[0;34m.\u001b[0m\u001b[0mnormalize_kwargs\u001b[0m\u001b[0;34m(\u001b[0m\u001b[0mkwargs\u001b[0m\u001b[0;34m,\u001b[0m \u001b[0mmlines\u001b[0m\u001b[0;34m.\u001b[0m\u001b[0mLine2D\u001b[0m\u001b[0;34m)\u001b[0m\u001b[0;34m\u001b[0m\u001b[0;34m\u001b[0m\u001b[0m\n\u001b[0;32m-> 1646\u001b[0;31m         \u001b[0mlines\u001b[0m \u001b[0;34m=\u001b[0m \u001b[0;34m[\u001b[0m\u001b[0;34m*\u001b[0m\u001b[0mself\u001b[0m\u001b[0;34m.\u001b[0m\u001b[0m_get_lines\u001b[0m\u001b[0;34m(\u001b[0m\u001b[0;34m*\u001b[0m\u001b[0margs\u001b[0m\u001b[0;34m,\u001b[0m \u001b[0mdata\u001b[0m\u001b[0;34m=\u001b[0m\u001b[0mdata\u001b[0m\u001b[0;34m,\u001b[0m \u001b[0;34m**\u001b[0m\u001b[0mkwargs\u001b[0m\u001b[0;34m)\u001b[0m\u001b[0;34m]\u001b[0m\u001b[0;34m\u001b[0m\u001b[0;34m\u001b[0m\u001b[0m\n\u001b[0m\u001b[1;32m   1647\u001b[0m         \u001b[0;32mfor\u001b[0m \u001b[0mline\u001b[0m \u001b[0;32min\u001b[0m \u001b[0mlines\u001b[0m\u001b[0;34m:\u001b[0m\u001b[0;34m\u001b[0m\u001b[0;34m\u001b[0m\u001b[0m\n\u001b[1;32m   1648\u001b[0m             \u001b[0mself\u001b[0m\u001b[0;34m.\u001b[0m\u001b[0madd_line\u001b[0m\u001b[0;34m(\u001b[0m\u001b[0mline\u001b[0m\u001b[0;34m)\u001b[0m\u001b[0;34m\u001b[0m\u001b[0;34m\u001b[0m\u001b[0m\n",
      "\u001b[0;32m/opt/conda/lib/python3.7/site-packages/matplotlib/axes/_base.py\u001b[0m in \u001b[0;36m__call__\u001b[0;34m(self, *args, **kwargs)\u001b[0m\n\u001b[1;32m    214\u001b[0m                 \u001b[0mthis\u001b[0m \u001b[0;34m+=\u001b[0m \u001b[0margs\u001b[0m\u001b[0;34m[\u001b[0m\u001b[0;36m0\u001b[0m\u001b[0;34m]\u001b[0m\u001b[0;34m,\u001b[0m\u001b[0;34m\u001b[0m\u001b[0;34m\u001b[0m\u001b[0m\n\u001b[1;32m    215\u001b[0m                 \u001b[0margs\u001b[0m \u001b[0;34m=\u001b[0m \u001b[0margs\u001b[0m\u001b[0;34m[\u001b[0m\u001b[0;36m1\u001b[0m\u001b[0;34m:\u001b[0m\u001b[0;34m]\u001b[0m\u001b[0;34m\u001b[0m\u001b[0;34m\u001b[0m\u001b[0m\n\u001b[0;32m--> 216\u001b[0;31m             \u001b[0;32myield\u001b[0m \u001b[0;32mfrom\u001b[0m \u001b[0mself\u001b[0m\u001b[0;34m.\u001b[0m\u001b[0m_plot_args\u001b[0m\u001b[0;34m(\u001b[0m\u001b[0mthis\u001b[0m\u001b[0;34m,\u001b[0m \u001b[0mkwargs\u001b[0m\u001b[0;34m)\u001b[0m\u001b[0;34m\u001b[0m\u001b[0;34m\u001b[0m\u001b[0m\n\u001b[0m\u001b[1;32m    217\u001b[0m \u001b[0;34m\u001b[0m\u001b[0m\n\u001b[1;32m    218\u001b[0m     \u001b[0;32mdef\u001b[0m \u001b[0mget_next_color\u001b[0m\u001b[0;34m(\u001b[0m\u001b[0mself\u001b[0m\u001b[0;34m)\u001b[0m\u001b[0;34m:\u001b[0m\u001b[0;34m\u001b[0m\u001b[0;34m\u001b[0m\u001b[0m\n",
      "\u001b[0;32m/opt/conda/lib/python3.7/site-packages/matplotlib/axes/_base.py\u001b[0m in \u001b[0;36m_plot_args\u001b[0;34m(self, tup, kwargs)\u001b[0m\n\u001b[1;32m    340\u001b[0m \u001b[0;34m\u001b[0m\u001b[0m\n\u001b[1;32m    341\u001b[0m         \u001b[0;32mif\u001b[0m \u001b[0mx\u001b[0m\u001b[0;34m.\u001b[0m\u001b[0mshape\u001b[0m\u001b[0;34m[\u001b[0m\u001b[0;36m0\u001b[0m\u001b[0;34m]\u001b[0m \u001b[0;34m!=\u001b[0m \u001b[0my\u001b[0m\u001b[0;34m.\u001b[0m\u001b[0mshape\u001b[0m\u001b[0;34m[\u001b[0m\u001b[0;36m0\u001b[0m\u001b[0;34m]\u001b[0m\u001b[0;34m:\u001b[0m\u001b[0;34m\u001b[0m\u001b[0;34m\u001b[0m\u001b[0m\n\u001b[0;32m--> 342\u001b[0;31m             raise ValueError(f\"x and y must have same first dimension, but \"\n\u001b[0m\u001b[1;32m    343\u001b[0m                              f\"have shapes {x.shape} and {y.shape}\")\n\u001b[1;32m    344\u001b[0m         \u001b[0;32mif\u001b[0m \u001b[0mx\u001b[0m\u001b[0;34m.\u001b[0m\u001b[0mndim\u001b[0m \u001b[0;34m>\u001b[0m \u001b[0;36m2\u001b[0m \u001b[0;32mor\u001b[0m \u001b[0my\u001b[0m\u001b[0;34m.\u001b[0m\u001b[0mndim\u001b[0m \u001b[0;34m>\u001b[0m \u001b[0;36m2\u001b[0m\u001b[0;34m:\u001b[0m\u001b[0;34m\u001b[0m\u001b[0;34m\u001b[0m\u001b[0m\n",
      "\u001b[0;31mValueError\u001b[0m: x and y must have same first dimension, but have shapes (6,) and (2,)"
     ]
    },
    {
     "data": {
      "image/png": "[encoded data removed]",
      "text/plain": [
       "<Figure size 432x288 with 1 Axes>"
      ]
     },
     "metadata": {
      "needs_background": "light"
     },
     "output_type": "display_data"
    }
   ],
   "source": [
    "best_cases = list(selection[\"Best Case\"])\n",
    "worst_cases = list(selection[\"Worst Case\"])\n",
    "average_cases = list(selection[\"Average Case\"])\n",
    "\n",
    "fig, ax = plt.subplots()\n",
    "ax.plot(inputs, best_cases, \"-o\", label = \"Best Case\") \n",
    "ax.plot(inputs, worst_cases, \"-o\", label = \"Worst Case\")\n",
    "ax.plot(inputs, average_cases, \"-o\", label = \"Average Case\")\n",
    "ax.set_xlabel('Quantidade de elementos do conjunto') \n",
    "ax.set_ylabel('Tempo (Segundos)') \n",
    "ax.set_title('Tempo de cada método x Conjuntos aleatórios') \n",
    "ax.yaxis.grid(True)\n",
    "fig.set_size_inches(18.5, 10.5)\n",
    "ax.legend()"
   ]
  },
  {
   "cell_type": "markdown",
   "metadata": {},
   "source": [
    "# Bubble Sort"
   ]
  },
  {
   "cell_type": "code",
   "execution_count": 5,
   "metadata": {},
   "outputs": [],
   "source": [
    "def bubble_sort(collection: int) -> list:\n",
    "    length = len(collection)\n",
    "    for i in range(length - 1):\n",
    "        swapped = False\n",
    "        for j in range(length - 1 - i):\n",
    "            # Compara os elementos adjacentes, e os troca caso estejam na ordem errada.\n",
    "            if collection[j] > collection[j + 1]:\n",
    "                swapped = True\n",
    "                collection[j], collection[j + 1] = collection[j + 1], collection[j]\n",
    "        if not swapped:\n",
    "            break  # Para se a lista estiver ordenada.\n",
    "    return collection"
   ]
  },
  {
   "cell_type": "markdown",
   "metadata": {},
   "source": [
    "### Como funciona ?\n",
    "\n",
    "![](imgs/bubble-sort.gif)\n",
    "\n",
    "Bubble sort é um algoritmo de classificação simples que percorre repetidamente a lista, compara elementos adjacentes e os troca se estiverem na ordem errada. A passagem pela lista é repetida até que a lista seja ordenada.\n",
    "\n",
    "**Melhor Caso:**\n",
    "\n",
    "Melhor caso ocorre quando a lista está ordenada -> O(n)\n",
    "\n",
    "**Caso Médio:**\n",
    "\n",
    "Caso médio ocorre quando a lista está misturada com elementos ordenados e não ordenados -> O(n^2) \n",
    "\n",
    "**Pior Caso:**\n",
    "\n",
    "Pior caso ocorre quando a lista está inversamente ordenada -> O(nˆ2)\n",
    "\n",
    "\n",
    "**Curiosidade:** O ex-CEO do Google Eric Schmidt perguntou ao então candidato presidencial Barack Obama uma vez durante uma entrevista sobre a melhor maneira de classificar um milhão de inteiros - e Obama, parando por um momento, respondeu: \"I think the bubble sort would be the wrong way to go.\""
   ]
  },
  {
   "cell_type": "code",
   "execution_count": null,
   "metadata": {},
   "outputs": [],
   "source": []
  },
  {
   "cell_type": "markdown",
   "metadata": {},
   "source": [
    "# Pancake Sort"
   ]
  },
  {
   "cell_type": "code",
   "execution_count": 1,
   "metadata": {},
   "outputs": [],
   "source": [
    "def pancake_sort(arr: int) -> list:\n",
    "    cur = len(arr)\n",
    "    while cur > 1:\n",
    "        # Encontra o maior valor dentro no array\n",
    "        mi = arr.index(max(arr[0:cur]))\n",
    "        # Inverte de 0 até mi, colocando m1 na primeira posição\n",
    "        arr = arr[mi::-1] + arr[mi + 1 : len(arr)]\n",
    "        # Inverte a lista toda\n",
    "        arr = arr[cur - 1 :: -1] + arr[cur : len(arr)]\n",
    "        cur -= 1\n",
    "    return arr"
   ]
  },
  {
   "cell_type": "markdown",
   "metadata": {},
   "source": [
    "### Como funciona ?\n",
    "\n",
    "![](imgs/pancake-sort.png)\n",
    "\n",
    "Pancake Sort é o termo coloquial para o problema matemático de classificar uma pilha desordenada de panquecas em ordem de tamanho, quando uma espátula pode ser inserida em qualquer ponto da pilha e usada para virar todas as panquecas acima dela. Um número de panqueca é o número mínimo de viradas necessárias para um determinado número de panquecas.\n",
    "\n",
    "**Melhor Caso:**\n",
    "\n",
    "\n",
    "\n",
    "**Caso Médio:**\n",
    "\n",
    "\n",
    "\n",
    "**Pior Caso:**\n",
    "\n",
    "Pior caso ocorre quando a lista está inversamente ordenada -> O(nˆ2)"
   ]
  },
  {
   "cell_type": "code",
   "execution_count": null,
   "metadata": {},
   "outputs": [],
   "source": []
  },
  {
   "cell_type": "markdown",
   "metadata": {},
   "source": [
    "# Shell Sort"
   ]
  },
  {
   "cell_type": "code",
   "execution_count": 3,
   "metadata": {},
   "outputs": [],
   "source": [
    "def shell_sort(collection):\n",
    "    # Marcin Ciura's gap sequence\n",
    "    gaps = [701, 301, 132, 57, 23, 10, 4, 1]\n",
    "\n",
    "    for gap in gaps:\n",
    "        for i in range(gap, len(collection)):\n",
    "            j = i\n",
    "            while j >= gap and collection[j] < collection[j - gap]:\n",
    "                collection[j], collection[j - gap] = collection[j - gap], collection[j]\n",
    "                j -= gap\n",
    "    return collection"
   ]
  },
  {
   "cell_type": "markdown",
   "metadata": {},
   "source": [
    "### Como funciona ?\n",
    "\n",
    "![](imgs/shell-sort.gif)\n",
    "\n",
    "O método começa classificando pares de elementos distantes um do outro e, em seguida, reduzindo progressivamente a lacuna entre os elementos a serem comparados. Começando com elementos distantes, ele pode mover alguns elementos fora do lugar para a posição mais rapidamente do que uma simples troca de vizinho mais próximo.\n",
    "\n",
    "![Shell Sort Gaps](imgs/shell-sort-gaps.png)\n",
    "\n",
    "**Melhor Caso:**\n",
    "\n",
    "\n",
    "\n",
    "**Caso Médio:**\n",
    "\n",
    "\n",
    "\n",
    "**Pior Caso:**\n",
    "\n",
    "Pior caso ocorre quando a lista está inversamente ordenada -> O(nˆ2)"
   ]
  },
  {
   "cell_type": "code",
   "execution_count": 49,
   "metadata": {},
   "outputs": [
    {
     "data": {
      "text/html": [
       "<div>\n",
       "<style scoped>\n",
       "    .dataframe tbody tr th:only-of-type {\n",
       "        vertical-align: middle;\n",
       "    }\n",
       "\n",
       "    .dataframe tbody tr th {\n",
       "        vertical-align: top;\n",
       "    }\n",
       "\n",
       "    .dataframe thead th {\n",
       "        text-align: right;\n",
       "    }\n",
       "</style>\n",
       "<table border=\"1\" class=\"dataframe\">\n",
       "  <thead>\n",
       "    <tr style=\"text-align: right;\">\n",
       "      <th></th>\n",
       "      <th>Values</th>\n",
       "      <th>Best Case</th>\n",
       "      <th>Worst Case</th>\n",
       "      <th>Average Case</th>\n",
       "    </tr>\n",
       "  </thead>\n",
       "  <tbody>\n",
       "    <tr>\n",
       "      <th>0</th>\n",
       "      <td>1000</td>\n",
       "      <td>0.000700</td>\n",
       "      <td>0.001629</td>\n",
       "      <td>0.004894</td>\n",
       "    </tr>\n",
       "    <tr>\n",
       "      <th>1</th>\n",
       "      <td>10000</td>\n",
       "      <td>0.009262</td>\n",
       "      <td>0.036556</td>\n",
       "      <td>0.073326</td>\n",
       "    </tr>\n",
       "    <tr>\n",
       "      <th>2</th>\n",
       "      <td>20000</td>\n",
       "      <td>0.018147</td>\n",
       "      <td>0.100106</td>\n",
       "      <td>0.212168</td>\n",
       "    </tr>\n",
       "    <tr>\n",
       "      <th>3</th>\n",
       "      <td>50000</td>\n",
       "      <td>0.041991</td>\n",
       "      <td>0.508798</td>\n",
       "      <td>1.087866</td>\n",
       "    </tr>\n",
       "    <tr>\n",
       "      <th>4</th>\n",
       "      <td>75000</td>\n",
       "      <td>0.067301</td>\n",
       "      <td>1.280001</td>\n",
       "      <td>2.251715</td>\n",
       "    </tr>\n",
       "    <tr>\n",
       "      <th>5</th>\n",
       "      <td>100000</td>\n",
       "      <td>0.084379</td>\n",
       "      <td>1.885674</td>\n",
       "      <td>3.886899</td>\n",
       "    </tr>\n",
       "  </tbody>\n",
       "</table>\n",
       "</div>"
      ],
      "text/plain": [
       "   Values  Best Case  Worst Case  Average Case\n",
       "0    1000   0.000700    0.001629      0.004894\n",
       "1   10000   0.009262    0.036556      0.073326\n",
       "2   20000   0.018147    0.100106      0.212168\n",
       "3   50000   0.041991    0.508798      1.087866\n",
       "4   75000   0.067301    1.280001      2.251715\n",
       "5  100000   0.084379    1.885674      3.886899"
      ]
     },
     "execution_count": 49,
     "metadata": {},
     "output_type": "execute_result"
    }
   ],
   "source": [
    "shell = shell.set_index('Values')\n",
    "shell.head(6)"
   ]
  },
  {
   "cell_type": "code",
   "execution_count": 45,
   "metadata": {},
   "outputs": [
    {
     "data": {
      "text/plain": [
       "<matplotlib.legend.Legend at 0x7f8b438b1250>"
      ]
     },
     "execution_count": 45,
     "metadata": {},
     "output_type": "execute_result"
    },
    {
     "data": {
      "image/png": "[encoded data removed]",
      "text/plain": [
       "<Figure size 1332x756 with 1 Axes>"
      ]
     },
     "metadata": {
      "needs_background": "light"
     },
     "output_type": "display_data"
    }
   ],
   "source": [
    "best_cases = list(shell[\"Best Case\"])\n",
    "worst_cases = list(shell[\"Worst Case\"])\n",
    "average_cases = list(shell[\"Average Case\"])\n",
    "\n",
    "fig, ax = plt.subplots()\n",
    "ax.plot(inputs, best_cases, \"-o\", label = \"Best Case\") \n",
    "ax.plot(inputs, worst_cases, \"-o\", label = \"Worst Case\")\n",
    "ax.plot(inputs, average_cases, \"-o\", label = \"Average Case\")\n",
    "ax.set_xlabel('Quantidade de elementos do conjunto') \n",
    "ax.set_ylabel('Tempo (Segundos)') \n",
    "ax.set_title('Tempo de cada método x Conjuntos aleatórios') \n",
    "ax.yaxis.grid(True)\n",
    "fig.set_size_inches(18.5, 10.5)\n",
    "ax.legend()"
   ]
  },
  {
   "cell_type": "code",
   "execution_count": null,
   "metadata": {},
   "outputs": [],
   "source": []
  }
 ],
 "metadata": {
  "kernelspec": {
   "display_name": "Python 3",
   "language": "python",
   "name": "python3"
  },
  "language_info": {
   "codemirror_mode": {
    "name": "ipython",
    "version": 3
   },
   "file_extension": ".py",
   "mimetype": "text/x-python",
   "name": "python",
   "nbconvert_exporter": "python",
   "pygments_lexer": "ipython3",
   "version": "3.7.6"
  }
 },
 "nbformat": 4,
 "nbformat_minor": 4
}
